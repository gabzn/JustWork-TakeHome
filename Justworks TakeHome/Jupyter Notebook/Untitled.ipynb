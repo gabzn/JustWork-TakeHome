{
 "cells": [
  {
   "cell_type": "markdown",
   "id": "89ae1b48",
   "metadata": {},
   "source": [
    "# Customer Class"
   ]
  },
  {
   "cell_type": "code",
   "execution_count": 1,
   "id": "015111ee",
   "metadata": {},
   "outputs": [],
   "source": [
    "from collections import defaultdict\n",
    "import datetime as dt\n",
    "\n",
    "class Customer:\n",
    "    def __init__(self, id, transactions):\n",
    "        self.id = id\n",
    "        \n",
    "        self.transaction_dict = defaultdict(MonthYearTransaction)\n",
    "        self.process_transactions(transactions)\n",
    "    \n",
    "    def process_transactions(self, transactions):\n",
    "        for (index, date, amount) in transactions.itertuples():\n",
    "            month_year = (date.month, date.year)\n",
    "            self.transaction_dict[month_year].apply(amount)\n",
    "            \n",
    "    def generate_report(self):\n",
    "        report = []\n",
    "        for (month, year), transaction in self.transaction_dict.items():\n",
    "            date_object = dt.datetime(year, month, 1)\n",
    "            report.append([self.id, date_object.strftime('%m/%Y'), transaction.get_min_balance(), transaction.get_max_balance(), transaction.get_balance()])\n",
    "        \n",
    "        return report"
   ]
  },
  {
   "cell_type": "markdown",
   "id": "89c9661b",
   "metadata": {},
   "source": [
    "# Transaction Class"
   ]
  },
  {
   "cell_type": "code",
   "execution_count": 2,
   "id": "9c0422b0",
   "metadata": {},
   "outputs": [],
   "source": [
    "import math\n",
    "\n",
    "class MonthYearTransaction:\n",
    "    def __init__(self):\n",
    "        self.balance = 0\n",
    "        self.min_balance = math.inf\n",
    "        self.max_balance = -math.inf\n",
    "\n",
    "    def apply(self, amount):\n",
    "        self.balance += amount\n",
    "        self.min_balance = min(self.min_balance, self.balance)\n",
    "        self.max_balance = max(self.max_balance, self.balance)\n",
    "    \n",
    "    def get_balance(self):\n",
    "        return self.balance\n",
    "    \n",
    "    def get_min_balance(self):\n",
    "        return self.min_balance\n",
    "    \n",
    "    def get_max_balance(self):\n",
    "        return self.max_balance"
   ]
  },
  {
   "cell_type": "markdown",
   "id": "99af1730",
   "metadata": {},
   "source": [
    "# Main function"
   ]
  },
  {
   "cell_type": "code",
   "execution_count": 3,
   "id": "06937ba5",
   "metadata": {},
   "outputs": [],
   "source": [
    "import pandas as pd"
   ]
  },
  {
   "cell_type": "code",
   "execution_count": 16,
   "id": "ac5994bb",
   "metadata": {},
   "outputs": [
    {
     "data": {
      "text/html": [
       "<div>\n",
       "<style scoped>\n",
       "    .dataframe tbody tr th:only-of-type {\n",
       "        vertical-align: middle;\n",
       "    }\n",
       "\n",
       "    .dataframe tbody tr th {\n",
       "        vertical-align: top;\n",
       "    }\n",
       "\n",
       "    .dataframe thead th {\n",
       "        text-align: right;\n",
       "    }\n",
       "</style>\n",
       "<table border=\"1\" class=\"dataframe\">\n",
       "  <thead>\n",
       "    <tr style=\"text-align: right;\">\n",
       "      <th></th>\n",
       "      <th>customer_id</th>\n",
       "      <th>date</th>\n",
       "      <th>amount</th>\n",
       "    </tr>\n",
       "  </thead>\n",
       "  <tbody>\n",
       "    <tr>\n",
       "      <th>0</th>\n",
       "      <td>C231</td>\n",
       "      <td>7/9/2020</td>\n",
       "      <td>-9232.0</td>\n",
       "    </tr>\n",
       "    <tr>\n",
       "      <th>1</th>\n",
       "      <td>C231</td>\n",
       "      <td>7/9/2020</td>\n",
       "      <td>6061.0</td>\n",
       "    </tr>\n",
       "    <tr>\n",
       "      <th>2</th>\n",
       "      <td>C231</td>\n",
       "      <td>5/6/2021</td>\n",
       "      <td>5108.0</td>\n",
       "    </tr>\n",
       "    <tr>\n",
       "      <th>3</th>\n",
       "      <td>C231</td>\n",
       "      <td>1/1/2022</td>\n",
       "      <td>9086.0</td>\n",
       "    </tr>\n",
       "    <tr>\n",
       "      <th>4</th>\n",
       "      <td>C231</td>\n",
       "      <td>1/9/2021</td>\n",
       "      <td>-8534.0</td>\n",
       "    </tr>\n",
       "    <tr>\n",
       "      <th>...</th>\n",
       "      <td>...</td>\n",
       "      <td>...</td>\n",
       "      <td>...</td>\n",
       "    </tr>\n",
       "    <tr>\n",
       "      <th>85</th>\n",
       "      <td>C409</td>\n",
       "      <td>11/26/2022</td>\n",
       "      <td>2285.0</td>\n",
       "    </tr>\n",
       "    <tr>\n",
       "      <th>86</th>\n",
       "      <td>C409</td>\n",
       "      <td>11/27/2022</td>\n",
       "      <td>-1209.0</td>\n",
       "    </tr>\n",
       "    <tr>\n",
       "      <th>87</th>\n",
       "      <td>C409</td>\n",
       "      <td>11/28/2022</td>\n",
       "      <td>-5432.0</td>\n",
       "    </tr>\n",
       "    <tr>\n",
       "      <th>88</th>\n",
       "      <td>NaN</td>\n",
       "      <td>NaN</td>\n",
       "      <td>NaN</td>\n",
       "    </tr>\n",
       "    <tr>\n",
       "      <th>89</th>\n",
       "      <td>C409</td>\n",
       "      <td>11/30/2022</td>\n",
       "      <td>-4984.0</td>\n",
       "    </tr>\n",
       "  </tbody>\n",
       "</table>\n",
       "<p>90 rows × 3 columns</p>\n",
       "</div>"
      ],
      "text/plain": [
       "   customer_id        date  amount\n",
       "0         C231    7/9/2020 -9232.0\n",
       "1         C231    7/9/2020  6061.0\n",
       "2         C231    5/6/2021  5108.0\n",
       "3         C231    1/1/2022  9086.0\n",
       "4         C231    1/9/2021 -8534.0\n",
       "..         ...         ...     ...\n",
       "85        C409  11/26/2022  2285.0\n",
       "86        C409  11/27/2022 -1209.0\n",
       "87        C409  11/28/2022 -5432.0\n",
       "88         NaN         NaN     NaN\n",
       "89        C409  11/30/2022 -4984.0\n",
       "\n",
       "[90 rows x 3 columns]"
      ]
     },
     "execution_count": 16,
     "metadata": {},
     "output_type": "execute_result"
    }
   ],
   "source": [
    "df_transactions = pd.read_csv('input_random.csv', header=0, names=['customer_id', 'date', 'amount'])\n",
    "customers = []\n"
   ]
  },
  {
   "cell_type": "code",
   "execution_count": 17,
   "id": "ef0ccf5b",
   "metadata": {},
   "outputs": [],
   "source": [
    "# Data cleaning\n",
    "df_transactions.dropna(inplace=True)\n",
    "\n",
    "# Change the value of date column to type datetime for sorting\n",
    "df_transactions['date'] = pd.to_datetime(df_transactions['date'])\n",
    "\n",
    "# Get all unique ids\n",
    "customer_ids = df_transactions['customer_id'].unique()"
   ]
  },
  {
   "cell_type": "code",
   "execution_count": null,
   "id": "f96b4cd6",
   "metadata": {},
   "outputs": [],
   "source": [
    "for id in customer_ids:\n",
    "    # Get all transactions by a specific customer\n",
    "    customer_transactions = df_transactions[df_transactions['customer_id'] == id][['date', 'amount']]\n",
    "    \n",
    "    # Sort his transactions by date and the amount because we want to apply credit transactions first\n",
    "    customer_transactions.sort_values(['date', 'amount'], ascending=[True, False], inplace=True)\n",
    "    \n",
    "    # Create an instance of customer and append it to the customer list\n",
    "    customers.append(Customer(id, customer_transactions))"
   ]
  },
  {
   "cell_type": "code",
   "execution_count": null,
   "id": "3d1292ef",
   "metadata": {},
   "outputs": [],
   "source": [
    "reports = []\n",
    "for customer in customers:\n",
    "    reports.extend(customer.generate_report())\n",
    "\n",
    "pd.DataFrame(reports).to_csv('output.csv', header=False, index=False)"
   ]
  }
 ],
 "metadata": {
  "kernelspec": {
   "display_name": "Python 3 (ipykernel)",
   "language": "python",
   "name": "python3"
  },
  "language_info": {
   "codemirror_mode": {
    "name": "ipython",
    "version": 3
   },
   "file_extension": ".py",
   "mimetype": "text/x-python",
   "name": "python",
   "nbconvert_exporter": "python",
   "pygments_lexer": "ipython3",
   "version": "3.9.7"
  }
 },
 "nbformat": 4,
 "nbformat_minor": 5
}
